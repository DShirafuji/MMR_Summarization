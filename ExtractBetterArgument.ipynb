{
  "nbformat": 4,
  "nbformat_minor": 0,
  "metadata": {
    "colab": {
      "name": "ExtractBetterArgument.ipynb",
      "provenance": [],
      "collapsed_sections": [],
      "toc_visible": true
    },
    "kernelspec": {
      "name": "python3",
      "display_name": "Python 3"
    },
    "accelerator": "GPU",
    "widgets": {
      "application/vnd.jupyter.widget-state+json": {
        "f75968a55f7a498c828290cbb485c6a0": {
          "model_module": "@jupyter-widgets/controls",
          "model_name": "HBoxModel",
          "state": {
            "_view_name": "HBoxView",
            "_dom_classes": [],
            "_model_name": "HBoxModel",
            "_view_module": "@jupyter-widgets/controls",
            "_model_module_version": "1.5.0",
            "_view_count": null,
            "_view_module_version": "1.5.0",
            "box_style": "",
            "layout": "IPY_MODEL_f8e1465108e0465a8d79e4aeb06a84f3",
            "_model_module": "@jupyter-widgets/controls",
            "children": [
              "IPY_MODEL_3f78f1cfcdd9437c9b0f51559c67350d",
              "IPY_MODEL_10223c7d3eef493bad636f51eb3b2a37"
            ]
          }
        },
        "f8e1465108e0465a8d79e4aeb06a84f3": {
          "model_module": "@jupyter-widgets/base",
          "model_name": "LayoutModel",
          "state": {
            "_view_name": "LayoutView",
            "grid_template_rows": null,
            "right": null,
            "justify_content": null,
            "_view_module": "@jupyter-widgets/base",
            "overflow": null,
            "_model_module_version": "1.2.0",
            "_view_count": null,
            "flex_flow": null,
            "width": null,
            "min_width": null,
            "border": null,
            "align_items": null,
            "bottom": null,
            "_model_module": "@jupyter-widgets/base",
            "top": null,
            "grid_column": null,
            "overflow_y": null,
            "overflow_x": null,
            "grid_auto_flow": null,
            "grid_area": null,
            "grid_template_columns": null,
            "flex": null,
            "_model_name": "LayoutModel",
            "justify_items": null,
            "grid_row": null,
            "max_height": null,
            "align_content": null,
            "visibility": null,
            "align_self": null,
            "height": null,
            "min_height": null,
            "padding": null,
            "grid_auto_rows": null,
            "grid_gap": null,
            "max_width": null,
            "order": null,
            "_view_module_version": "1.2.0",
            "grid_template_areas": null,
            "object_position": null,
            "object_fit": null,
            "grid_auto_columns": null,
            "margin": null,
            "display": null,
            "left": null
          }
        },
        "3f78f1cfcdd9437c9b0f51559c67350d": {
          "model_module": "@jupyter-widgets/controls",
          "model_name": "FloatProgressModel",
          "state": {
            "_view_name": "ProgressView",
            "style": "IPY_MODEL_5a96d4e5632b48868f4b637936f1b13d",
            "_dom_classes": [],
            "description": "100%",
            "_model_name": "FloatProgressModel",
            "bar_style": "success",
            "max": 2,
            "_view_module": "@jupyter-widgets/controls",
            "_model_module_version": "1.5.0",
            "value": 2,
            "_view_count": null,
            "_view_module_version": "1.5.0",
            "orientation": "horizontal",
            "min": 0,
            "description_tooltip": null,
            "_model_module": "@jupyter-widgets/controls",
            "layout": "IPY_MODEL_043f09a7aa1e4f1f868801897b0f633d"
          }
        },
        "10223c7d3eef493bad636f51eb3b2a37": {
          "model_module": "@jupyter-widgets/controls",
          "model_name": "HTMLModel",
          "state": {
            "_view_name": "HTMLView",
            "style": "IPY_MODEL_a7b5efdae8554a3283cefbda9ddf957d",
            "_dom_classes": [],
            "description": "",
            "_model_name": "HTMLModel",
            "placeholder": "​",
            "_view_module": "@jupyter-widgets/controls",
            "_model_module_version": "1.5.0",
            "value": " 2/2 [00:01&lt;00:00,  1.69it/s]",
            "_view_count": null,
            "_view_module_version": "1.5.0",
            "description_tooltip": null,
            "_model_module": "@jupyter-widgets/controls",
            "layout": "IPY_MODEL_4e0aef49b8474c9887626d6b5e326310"
          }
        },
        "5a96d4e5632b48868f4b637936f1b13d": {
          "model_module": "@jupyter-widgets/controls",
          "model_name": "ProgressStyleModel",
          "state": {
            "_view_name": "StyleView",
            "_model_name": "ProgressStyleModel",
            "description_width": "initial",
            "_view_module": "@jupyter-widgets/base",
            "_model_module_version": "1.5.0",
            "_view_count": null,
            "_view_module_version": "1.2.0",
            "bar_color": null,
            "_model_module": "@jupyter-widgets/controls"
          }
        },
        "043f09a7aa1e4f1f868801897b0f633d": {
          "model_module": "@jupyter-widgets/base",
          "model_name": "LayoutModel",
          "state": {
            "_view_name": "LayoutView",
            "grid_template_rows": null,
            "right": null,
            "justify_content": null,
            "_view_module": "@jupyter-widgets/base",
            "overflow": null,
            "_model_module_version": "1.2.0",
            "_view_count": null,
            "flex_flow": null,
            "width": null,
            "min_width": null,
            "border": null,
            "align_items": null,
            "bottom": null,
            "_model_module": "@jupyter-widgets/base",
            "top": null,
            "grid_column": null,
            "overflow_y": null,
            "overflow_x": null,
            "grid_auto_flow": null,
            "grid_area": null,
            "grid_template_columns": null,
            "flex": null,
            "_model_name": "LayoutModel",
            "justify_items": null,
            "grid_row": null,
            "max_height": null,
            "align_content": null,
            "visibility": null,
            "align_self": null,
            "height": null,
            "min_height": null,
            "padding": null,
            "grid_auto_rows": null,
            "grid_gap": null,
            "max_width": null,
            "order": null,
            "_view_module_version": "1.2.0",
            "grid_template_areas": null,
            "object_position": null,
            "object_fit": null,
            "grid_auto_columns": null,
            "margin": null,
            "display": null,
            "left": null
          }
        },
        "a7b5efdae8554a3283cefbda9ddf957d": {
          "model_module": "@jupyter-widgets/controls",
          "model_name": "DescriptionStyleModel",
          "state": {
            "_view_name": "StyleView",
            "_model_name": "DescriptionStyleModel",
            "description_width": "",
            "_view_module": "@jupyter-widgets/base",
            "_model_module_version": "1.5.0",
            "_view_count": null,
            "_view_module_version": "1.2.0",
            "_model_module": "@jupyter-widgets/controls"
          }
        },
        "4e0aef49b8474c9887626d6b5e326310": {
          "model_module": "@jupyter-widgets/base",
          "model_name": "LayoutModel",
          "state": {
            "_view_name": "LayoutView",
            "grid_template_rows": null,
            "right": null,
            "justify_content": null,
            "_view_module": "@jupyter-widgets/base",
            "overflow": null,
            "_model_module_version": "1.2.0",
            "_view_count": null,
            "flex_flow": null,
            "width": null,
            "min_width": null,
            "border": null,
            "align_items": null,
            "bottom": null,
            "_model_module": "@jupyter-widgets/base",
            "top": null,
            "grid_column": null,
            "overflow_y": null,
            "overflow_x": null,
            "grid_auto_flow": null,
            "grid_area": null,
            "grid_template_columns": null,
            "flex": null,
            "_model_name": "LayoutModel",
            "justify_items": null,
            "grid_row": null,
            "max_height": null,
            "align_content": null,
            "visibility": null,
            "align_self": null,
            "height": null,
            "min_height": null,
            "padding": null,
            "grid_auto_rows": null,
            "grid_gap": null,
            "max_width": null,
            "order": null,
            "_view_module_version": "1.2.0",
            "grid_template_areas": null,
            "object_position": null,
            "object_fit": null,
            "grid_auto_columns": null,
            "margin": null,
            "display": null,
            "left": null
          }
        },
        "073bf7c2aa164795b914a17d892ff484": {
          "model_module": "@jupyter-widgets/controls",
          "model_name": "HBoxModel",
          "state": {
            "_view_name": "HBoxView",
            "_dom_classes": [],
            "_model_name": "HBoxModel",
            "_view_module": "@jupyter-widgets/controls",
            "_model_module_version": "1.5.0",
            "_view_count": null,
            "_view_module_version": "1.5.0",
            "box_style": "",
            "layout": "IPY_MODEL_67f08fb5abca4ecba5da77da8517cd07",
            "_model_module": "@jupyter-widgets/controls",
            "children": [
              "IPY_MODEL_4f7828f45f124589a7be7dcf353dde2a",
              "IPY_MODEL_d40ed3f93f834dd398acd384dcf7aca7"
            ]
          }
        },
        "67f08fb5abca4ecba5da77da8517cd07": {
          "model_module": "@jupyter-widgets/base",
          "model_name": "LayoutModel",
          "state": {
            "_view_name": "LayoutView",
            "grid_template_rows": null,
            "right": null,
            "justify_content": null,
            "_view_module": "@jupyter-widgets/base",
            "overflow": null,
            "_model_module_version": "1.2.0",
            "_view_count": null,
            "flex_flow": null,
            "width": null,
            "min_width": null,
            "border": null,
            "align_items": null,
            "bottom": null,
            "_model_module": "@jupyter-widgets/base",
            "top": null,
            "grid_column": null,
            "overflow_y": null,
            "overflow_x": null,
            "grid_auto_flow": null,
            "grid_area": null,
            "grid_template_columns": null,
            "flex": null,
            "_model_name": "LayoutModel",
            "justify_items": null,
            "grid_row": null,
            "max_height": null,
            "align_content": null,
            "visibility": null,
            "align_self": null,
            "height": null,
            "min_height": null,
            "padding": null,
            "grid_auto_rows": null,
            "grid_gap": null,
            "max_width": null,
            "order": null,
            "_view_module_version": "1.2.0",
            "grid_template_areas": null,
            "object_position": null,
            "object_fit": null,
            "grid_auto_columns": null,
            "margin": null,
            "display": null,
            "left": null
          }
        },
        "4f7828f45f124589a7be7dcf353dde2a": {
          "model_module": "@jupyter-widgets/controls",
          "model_name": "FloatProgressModel",
          "state": {
            "_view_name": "ProgressView",
            "style": "IPY_MODEL_8a34b3f9fd564a13bd8ec0f32b5c54e3",
            "_dom_classes": [],
            "description": "100%",
            "_model_name": "FloatProgressModel",
            "bar_style": "success",
            "max": 1,
            "_view_module": "@jupyter-widgets/controls",
            "_model_module_version": "1.5.0",
            "value": 1,
            "_view_count": null,
            "_view_module_version": "1.5.0",
            "orientation": "horizontal",
            "min": 0,
            "description_tooltip": null,
            "_model_module": "@jupyter-widgets/controls",
            "layout": "IPY_MODEL_00e5376f1c204238bd6a26f0977d4ad9"
          }
        },
        "d40ed3f93f834dd398acd384dcf7aca7": {
          "model_module": "@jupyter-widgets/controls",
          "model_name": "HTMLModel",
          "state": {
            "_view_name": "HTMLView",
            "style": "IPY_MODEL_cdea81d30658478e870db32ba1fc20f3",
            "_dom_classes": [],
            "description": "",
            "_model_name": "HTMLModel",
            "placeholder": "​",
            "_view_module": "@jupyter-widgets/controls",
            "_model_module_version": "1.5.0",
            "value": " 1/1 [00:00&lt;00:00,  3.36it/s]",
            "_view_count": null,
            "_view_module_version": "1.5.0",
            "description_tooltip": null,
            "_model_module": "@jupyter-widgets/controls",
            "layout": "IPY_MODEL_ee067ac642a1408394b6f6089e2d3e5a"
          }
        },
        "8a34b3f9fd564a13bd8ec0f32b5c54e3": {
          "model_module": "@jupyter-widgets/controls",
          "model_name": "ProgressStyleModel",
          "state": {
            "_view_name": "StyleView",
            "_model_name": "ProgressStyleModel",
            "description_width": "initial",
            "_view_module": "@jupyter-widgets/base",
            "_model_module_version": "1.5.0",
            "_view_count": null,
            "_view_module_version": "1.2.0",
            "bar_color": null,
            "_model_module": "@jupyter-widgets/controls"
          }
        },
        "00e5376f1c204238bd6a26f0977d4ad9": {
          "model_module": "@jupyter-widgets/base",
          "model_name": "LayoutModel",
          "state": {
            "_view_name": "LayoutView",
            "grid_template_rows": null,
            "right": null,
            "justify_content": null,
            "_view_module": "@jupyter-widgets/base",
            "overflow": null,
            "_model_module_version": "1.2.0",
            "_view_count": null,
            "flex_flow": null,
            "width": null,
            "min_width": null,
            "border": null,
            "align_items": null,
            "bottom": null,
            "_model_module": "@jupyter-widgets/base",
            "top": null,
            "grid_column": null,
            "overflow_y": null,
            "overflow_x": null,
            "grid_auto_flow": null,
            "grid_area": null,
            "grid_template_columns": null,
            "flex": null,
            "_model_name": "LayoutModel",
            "justify_items": null,
            "grid_row": null,
            "max_height": null,
            "align_content": null,
            "visibility": null,
            "align_self": null,
            "height": null,
            "min_height": null,
            "padding": null,
            "grid_auto_rows": null,
            "grid_gap": null,
            "max_width": null,
            "order": null,
            "_view_module_version": "1.2.0",
            "grid_template_areas": null,
            "object_position": null,
            "object_fit": null,
            "grid_auto_columns": null,
            "margin": null,
            "display": null,
            "left": null
          }
        },
        "cdea81d30658478e870db32ba1fc20f3": {
          "model_module": "@jupyter-widgets/controls",
          "model_name": "DescriptionStyleModel",
          "state": {
            "_view_name": "StyleView",
            "_model_name": "DescriptionStyleModel",
            "description_width": "",
            "_view_module": "@jupyter-widgets/base",
            "_model_module_version": "1.5.0",
            "_view_count": null,
            "_view_module_version": "1.2.0",
            "_model_module": "@jupyter-widgets/controls"
          }
        },
        "ee067ac642a1408394b6f6089e2d3e5a": {
          "model_module": "@jupyter-widgets/base",
          "model_name": "LayoutModel",
          "state": {
            "_view_name": "LayoutView",
            "grid_template_rows": null,
            "right": null,
            "justify_content": null,
            "_view_module": "@jupyter-widgets/base",
            "overflow": null,
            "_model_module_version": "1.2.0",
            "_view_count": null,
            "flex_flow": null,
            "width": null,
            "min_width": null,
            "border": null,
            "align_items": null,
            "bottom": null,
            "_model_module": "@jupyter-widgets/base",
            "top": null,
            "grid_column": null,
            "overflow_y": null,
            "overflow_x": null,
            "grid_auto_flow": null,
            "grid_area": null,
            "grid_template_columns": null,
            "flex": null,
            "_model_name": "LayoutModel",
            "justify_items": null,
            "grid_row": null,
            "max_height": null,
            "align_content": null,
            "visibility": null,
            "align_self": null,
            "height": null,
            "min_height": null,
            "padding": null,
            "grid_auto_rows": null,
            "grid_gap": null,
            "max_width": null,
            "order": null,
            "_view_module_version": "1.2.0",
            "grid_template_areas": null,
            "object_position": null,
            "object_fit": null,
            "grid_auto_columns": null,
            "margin": null,
            "display": null,
            "left": null
          }
        }
      }
    }
  },
  "cells": [
    {
      "cell_type": "markdown",
      "metadata": {
        "id": "e-k1STYRR5X6",
        "colab_type": "text"
      },
      "source": [
        "#Prepare before Experiments"
      ]
    },
    {
      "cell_type": "code",
      "metadata": {
        "id": "6ZplL0aJO0DU",
        "colab_type": "code",
        "colab": {
          "base_uri": "https://localhost:8080/",
          "height": 122
        },
        "outputId": "059b3783-d063-44b2-e4bc-488f3abdca20"
      },
      "source": [
        "from google.colab import drive \n",
        "drive.mount('/content/drive')"
      ],
      "execution_count": 1,
      "outputs": [
        {
          "output_type": "stream",
          "text": [
            "Go to this URL in a browser: https://accounts.google.com/o/oauth2/auth?client_id=947318989803-6bn6qk8qdgf4n4g3pfee6491hc0brc4i.apps.googleusercontent.com&redirect_uri=urn%3aietf%3awg%3aoauth%3a2.0%3aoob&scope=email%20https%3a%2f%2fwww.googleapis.com%2fauth%2fdocs.test%20https%3a%2f%2fwww.googleapis.com%2fauth%2fdrive%20https%3a%2f%2fwww.googleapis.com%2fauth%2fdrive.photos.readonly%20https%3a%2f%2fwww.googleapis.com%2fauth%2fpeopleapi.readonly&response_type=code\n",
            "\n",
            "Enter your authorization code:\n",
            "··········\n",
            "Mounted at /content/drive\n"
          ],
          "name": "stdout"
        }
      ]
    },
    {
      "cell_type": "code",
      "metadata": {
        "id": "NqeskmMFO9pa",
        "colab_type": "code",
        "colab": {
          "base_uri": "https://localhost:8080/",
          "height": 51
        },
        "outputId": "aab73a9a-7280-499a-9791-4fdaa515e68f"
      },
      "source": [
        "%tensorflow_version 2.x\n",
        "import tensorflow as tf\n",
        "device_name = tf.test.gpu_device_name()\n",
        "if device_name != '/device:GPU:0':\n",
        "  raise SystemError('GPU device not found')\n",
        "print('Found GPU at: {}'.format(device_name))\n",
        "\n",
        "%tensorflow_version 2.x\n",
        "import tensorflow as tf\n",
        "import timeit\n",
        "\n",
        "device_name = tf.test.gpu_device_name()\n",
        "if device_name != '/device:GPU:0':\n",
        "  print(\n",
        "      '\\n\\nThis error most likely means that this notebook is not '\n",
        "      'configured to use a GPU.  Change this in Notebook Settings via the '\n",
        "      'command palette (cmd/ctrl-shift-P) or the Edit menu.\\n\\n')\n",
        "  raise SystemError('GPU device not found')\n",
        "\n",
        "def cpu():\n",
        "  with tf.device('/cpu:0'):\n",
        "    random_image_cpu = tf.random.normal((100, 100, 100, 3))\n",
        "    net_cpu = tf.keras.layers.Conv2D(32, 7)(random_image_cpu)\n",
        "    return tf.math.reduce_sum(net_cpu)\n",
        "\n",
        "def gpu():\n",
        "  with tf.device('/device:GPU:0'):\n",
        "    random_image_gpu = tf.random.normal((100, 100, 100, 3))\n",
        "    net_gpu = tf.keras.layers.Conv2D(32, 7)(random_image_gpu)\n",
        "    return tf.math.reduce_sum(net_gpu)\n",
        "  \n",
        "# We run each op once to warm up; see: https://stackoverflow.com/a/45067900\n",
        "cpu()\n",
        "gpu()"
      ],
      "execution_count": 3,
      "outputs": [
        {
          "output_type": "stream",
          "text": [
            "Found GPU at: /device:GPU:0\n"
          ],
          "name": "stdout"
        },
        {
          "output_type": "execute_result",
          "data": {
            "text/plain": [
              "<tf.Tensor: shape=(), dtype=float32, numpy=1542.8479>"
            ]
          },
          "metadata": {
            "tags": []
          },
          "execution_count": 3
        }
      ]
    },
    {
      "cell_type": "code",
      "metadata": {
        "id": "ADvmHp3EO-qY",
        "colab_type": "code",
        "colab": {
          "base_uri": "https://localhost:8080/",
          "height": 666
        },
        "outputId": "d109c8bd-564b-4c3c-ee33-baddf74dcf85"
      },
      "source": [
        "!pip install transformers>=3.0.2\n",
        "!pip install tqdm\n",
        "!pip install torch>=1.2.0\n",
        "!pip install scipy\n",
        "!pip install -U sentence-transformers"
      ],
      "execution_count": 4,
      "outputs": [
        {
          "output_type": "stream",
          "text": [
            "Requirement already satisfied: tqdm in /usr/local/lib/python3.6/dist-packages (4.41.1)\n",
            "Requirement already satisfied: scipy in /usr/local/lib/python3.6/dist-packages (1.4.1)\n",
            "Requirement already satisfied: numpy>=1.13.3 in /usr/local/lib/python3.6/dist-packages (from scipy) (1.18.5)\n",
            "Collecting sentence-transformers\n",
            "\u001b[?25l  Downloading https://files.pythonhosted.org/packages/ee/71/acfb3f1016f83d90590130dc2ee0d8cd36b005aa7afa45b465837b711070/sentence-transformers-0.3.3.tar.gz (65kB)\n",
            "\u001b[K     |████████████████████████████████| 71kB 3.4MB/s \n",
            "\u001b[?25hRequirement already satisfied, skipping upgrade: transformers>=3.0.2 in /usr/local/lib/python3.6/dist-packages (from sentence-transformers) (3.0.2)\n",
            "Requirement already satisfied, skipping upgrade: tqdm in /usr/local/lib/python3.6/dist-packages (from sentence-transformers) (4.41.1)\n",
            "Requirement already satisfied, skipping upgrade: torch>=1.2.0 in /usr/local/lib/python3.6/dist-packages (from sentence-transformers) (1.6.0+cu101)\n",
            "Requirement already satisfied, skipping upgrade: numpy in /usr/local/lib/python3.6/dist-packages (from sentence-transformers) (1.18.5)\n",
            "Requirement already satisfied, skipping upgrade: scikit-learn in /usr/local/lib/python3.6/dist-packages (from sentence-transformers) (0.22.2.post1)\n",
            "Requirement already satisfied, skipping upgrade: scipy in /usr/local/lib/python3.6/dist-packages (from sentence-transformers) (1.4.1)\n",
            "Requirement already satisfied, skipping upgrade: nltk in /usr/local/lib/python3.6/dist-packages (from sentence-transformers) (3.2.5)\n",
            "Requirement already satisfied, skipping upgrade: packaging in /usr/local/lib/python3.6/dist-packages (from transformers>=3.0.2->sentence-transformers) (20.4)\n",
            "Requirement already satisfied, skipping upgrade: dataclasses; python_version < \"3.7\" in /usr/local/lib/python3.6/dist-packages (from transformers>=3.0.2->sentence-transformers) (0.7)\n",
            "Requirement already satisfied, skipping upgrade: sacremoses in /usr/local/lib/python3.6/dist-packages (from transformers>=3.0.2->sentence-transformers) (0.0.43)\n",
            "Requirement already satisfied, skipping upgrade: tokenizers==0.8.1.rc1 in /usr/local/lib/python3.6/dist-packages (from transformers>=3.0.2->sentence-transformers) (0.8.1rc1)\n",
            "Requirement already satisfied, skipping upgrade: filelock in /usr/local/lib/python3.6/dist-packages (from transformers>=3.0.2->sentence-transformers) (3.0.12)\n",
            "Requirement already satisfied, skipping upgrade: sentencepiece!=0.1.92 in /usr/local/lib/python3.6/dist-packages (from transformers>=3.0.2->sentence-transformers) (0.1.91)\n",
            "Requirement already satisfied, skipping upgrade: requests in /usr/local/lib/python3.6/dist-packages (from transformers>=3.0.2->sentence-transformers) (2.23.0)\n",
            "Requirement already satisfied, skipping upgrade: regex!=2019.12.17 in /usr/local/lib/python3.6/dist-packages (from transformers>=3.0.2->sentence-transformers) (2019.12.20)\n",
            "Requirement already satisfied, skipping upgrade: future in /usr/local/lib/python3.6/dist-packages (from torch>=1.2.0->sentence-transformers) (0.16.0)\n",
            "Requirement already satisfied, skipping upgrade: joblib>=0.11 in /usr/local/lib/python3.6/dist-packages (from scikit-learn->sentence-transformers) (0.16.0)\n",
            "Requirement already satisfied, skipping upgrade: six in /usr/local/lib/python3.6/dist-packages (from nltk->sentence-transformers) (1.15.0)\n",
            "Requirement already satisfied, skipping upgrade: pyparsing>=2.0.2 in /usr/local/lib/python3.6/dist-packages (from packaging->transformers>=3.0.2->sentence-transformers) (2.4.7)\n",
            "Requirement already satisfied, skipping upgrade: click in /usr/local/lib/python3.6/dist-packages (from sacremoses->transformers>=3.0.2->sentence-transformers) (7.1.2)\n",
            "Requirement already satisfied, skipping upgrade: idna<3,>=2.5 in /usr/local/lib/python3.6/dist-packages (from requests->transformers>=3.0.2->sentence-transformers) (2.10)\n",
            "Requirement already satisfied, skipping upgrade: urllib3!=1.25.0,!=1.25.1,<1.26,>=1.21.1 in /usr/local/lib/python3.6/dist-packages (from requests->transformers>=3.0.2->sentence-transformers) (1.24.3)\n",
            "Requirement already satisfied, skipping upgrade: certifi>=2017.4.17 in /usr/local/lib/python3.6/dist-packages (from requests->transformers>=3.0.2->sentence-transformers) (2020.6.20)\n",
            "Requirement already satisfied, skipping upgrade: chardet<4,>=3.0.2 in /usr/local/lib/python3.6/dist-packages (from requests->transformers>=3.0.2->sentence-transformers) (3.0.4)\n",
            "Building wheels for collected packages: sentence-transformers\n",
            "  Building wheel for sentence-transformers (setup.py) ... \u001b[?25l\u001b[?25hdone\n",
            "  Created wheel for sentence-transformers: filename=sentence_transformers-0.3.3-cp36-none-any.whl size=97299 sha256=6eff280dd42887a5bd02d2ba0bc8ec1e639c2e24ec2109390308ae2142a609a9\n",
            "  Stored in directory: /root/.cache/pip/wheels/75/d6/0a/cab163b21d0597cc1580bc344487b11ad405e0d1d314725f2b\n",
            "Successfully built sentence-transformers\n",
            "Installing collected packages: sentence-transformers\n",
            "Successfully installed sentence-transformers-0.3.3\n"
          ],
          "name": "stdout"
        }
      ]
    },
    {
      "cell_type": "markdown",
      "metadata": {
        "id": "HDdVmdRCYLaz",
        "colab_type": "text"
      },
      "source": [
        "## Dataset Preparing\n",
        "\n",
        "PLEASE PREPARE THE ARGUMENTS (SENTENCES) LIST.\n",
        "\n",
        "What kind of list???\n",
        "\n",
        "\n",
        "[\n",
        "  (\n",
        "    KP, [Arguments which are included in KP]\n",
        "  )\n",
        "]\n",
        "\n",
        "where KP is the centre sentence (if you don't have the centre sentence/summary, please place all of documents here), and Arguments refer sentence in usual summarization tasks."
      ]
    },
    {
      "cell_type": "code",
      "metadata": {
        "id": "pYz9l5z5QQWb",
        "colab_type": "code",
        "colab": {}
      },
      "source": [
        "root_path =\"/content/drive/My Drive/ArgumentKeyPoint/\""
      ],
      "execution_count": 4,
      "outputs": []
    },
    {
      "cell_type": "code",
      "metadata": {
        "id": "WftrLhjsPOUU",
        "colab_type": "code",
        "colab": {}
      },
      "source": [
        "import csv\n",
        "import numpy as np\n",
        "import random\n",
        "from sentence_transformers import SentenceTransformer"
      ],
      "execution_count": 5,
      "outputs": []
    },
    {
      "cell_type": "code",
      "metadata": {
        "id": "38L50lQLPOGg",
        "colab_type": "code",
        "colab": {}
      },
      "source": [
        "def cos_sim(v1, v2):\n",
        "    return np.dot(v1, v2) / (np.linalg.norm(v1) * np.linalg.norm(v2))"
      ],
      "execution_count": 6,
      "outputs": []
    },
    {
      "cell_type": "code",
      "metadata": {
        "id": "0_hQhRQ3QA8N",
        "colab_type": "code",
        "colab": {}
      },
      "source": [
        "def MakeSameKPArguments(filepath):\n",
        "    \"\"\"\n",
        "    This function will return \n",
        "            [ (KP, [arguments which are labeled to the same KP]\n",
        "               )\n",
        "            ]\n",
        "    \"\"\" \n",
        "    with open(filepath, encoding='utf-8') as f:\n",
        "        reader = csv.reader(f)\n",
        "        result_data = [row for row in reader]\n",
        "    new_data = []\n",
        "    for d in result_data:\n",
        "        if d[4] == \"1\":#d[4]=label\n",
        "            new_data.append(d)\n",
        "    del result_data\n",
        "\n",
        "    KPList = []\n",
        "    results = {} #dictionary\n",
        "    for d in new_data:\n",
        "      Argument = d[1]\n",
        "      KP = d[2]\n",
        "      if KP not  in KPList:\n",
        "          KPList.append(KP)\n",
        "          results[KP] = [Argument]\n",
        "      else:\n",
        "          ArgumentsListOnSameKP = results[KP]\n",
        "          ArgumentsListOnSameKP.append(Argument)\n",
        "          results[KP] = ArgumentsListOnSameKP\n",
        "    del KPList\n",
        "    del new_data\n",
        "    #return results\n",
        "    new = list(results.items())\n",
        "    return new"
      ],
      "execution_count": 7,
      "outputs": []
    },
    {
      "cell_type": "code",
      "metadata": {
        "id": "oHJNeVWlQA22",
        "colab_type": "code",
        "colab": {}
      },
      "source": [
        "train2path = root_path + \"data/train.csv\"\n",
        "test2path = root_path + \"data/test.csv\"\n",
        "dev2path = root_path + \"data/dev.csv\"\n",
        "OriginalTrainData = MakeSameKPArguments(train2path)\n",
        "OriginalTestData = MakeSameKPArguments(test2path)\n",
        "OriginalDevnData = MakeSameKPArguments(dev2path)"
      ],
      "execution_count": 9,
      "outputs": []
    },
    {
      "cell_type": "code",
      "metadata": {
        "id": "1wMIPDt2Z5Ng",
        "colab_type": "code",
        "colab": {
          "base_uri": "https://localhost:8080/",
          "height": 68
        },
        "outputId": "33973421-61d6-4bc7-c665-3a48d78fdce7"
      },
      "source": [
        "print(len(OriginalTrainData))\n",
        "print(len(OriginalTestData))\n",
        "print(len(OriginalDevnData))"
      ],
      "execution_count": 10,
      "outputs": [
        {
          "output_type": "stream",
          "text": [
            "142\n",
            "61\n",
            "40\n"
          ],
          "name": "stdout"
        }
      ]
    },
    {
      "cell_type": "code",
      "metadata": {
        "id": "gHy0fWxRdP9_",
        "colab_type": "code",
        "colab": {
          "base_uri": "https://localhost:8080/",
          "height": 68
        },
        "outputId": "2ee5a427-5898-4ae2-ec6a-5351f2f6c44a"
      },
      "source": [
        "numArguments = []\n",
        "for eachtuple in OriginalTrainData:\n",
        "  arguments = eachtuple[1]\n",
        "  numArguments.append(len(arguments))\n",
        "for eachtuple in OriginalTestData:\n",
        "  arguments = eachtuple[1]\n",
        "  numArguments.append(len(arguments))\n",
        "for eachtuple in OriginalDevnData:\n",
        "  arguments = eachtuple[1]\n",
        "  numArguments.append(len(arguments))\n",
        "\n",
        "print(\"Argumentsの数の最大値：　\" + str(max(numArguments)))\n",
        "print(\"Argumentsの数の最小値：　\" + str(min(numArguments)))\n",
        "print(\"Argumentsの数の平均値：　\" + str(sum(numArguments)/len(numArguments)))"
      ],
      "execution_count": 11,
      "outputs": [
        {
          "output_type": "stream",
          "text": [
            "Argumentsの数の最大値：　95\n",
            "Argumentsの数の最小値：　3\n",
            "Argumentsの数の平均値：　20.567901234567902\n"
          ],
          "name": "stdout"
        }
      ]
    },
    {
      "cell_type": "markdown",
      "metadata": {
        "id": "o_AwcPOMkFIF",
        "colab_type": "text"
      },
      "source": [
        "## Dataset Details\n",
        "\n",
        "Train Dataset: 142\n",
        "\n",
        "Test Dataset: 61\n",
        "\n",
        "Dev Dataset: 40\n",
        "\n",
        "\n",
        "\n",
        "*   平均: 20.57\n",
        "*   中央値: 13.00\n",
        "*   分散: 376.66\n",
        "*   標準偏差: 19.41\n",
        "*   最頻値：[(4, 17), (3, 15), (6, 13), (7, 12), (5, 12)]"
      ]
    },
    {
      "cell_type": "code",
      "metadata": {
        "id": "u8WjlQO_gWtV",
        "colab_type": "code",
        "colab": {
          "base_uri": "https://localhost:8080/",
          "height": 119
        },
        "outputId": "7011eb09-3fe5-4661-c3f4-9a7f4df413a1"
      },
      "source": [
        "from statistics import mean, median,variance,stdev\n",
        "data = numArguments\n",
        "m = mean(data)\n",
        "median = median(data)\n",
        "variance = variance(data)\n",
        "stdev = stdev(data)\n",
        "print('平均: {0:.2f}'.format(m))\n",
        "print('中央値: {0:.2f}'.format(median))\n",
        "print('分散: {0:.2f}'.format(variance))\n",
        "print('標準偏差: {0:.2f}'.format(stdev))\n",
        "from collections import Counter\n",
        "c = Counter(data)\n",
        "print(\"最頻値：\")\n",
        "print(c.most_common(5))"
      ],
      "execution_count": 12,
      "outputs": [
        {
          "output_type": "stream",
          "text": [
            "平均: 20.57\n",
            "中央値: 13.00\n",
            "分散: 376.66\n",
            "標準偏差: 19.41\n",
            "最頻値：\n",
            "[(4, 17), (3, 15), (6, 13), (7, 12), (5, 12)]\n"
          ],
          "name": "stdout"
        }
      ]
    },
    {
      "cell_type": "markdown",
      "metadata": {
        "id": "nUeh5JZJR1dU",
        "colab_type": "text"
      },
      "source": [
        "#Unsupervised Methods"
      ]
    },
    {
      "cell_type": "code",
      "metadata": {
        "id": "7PnSHb20PNpm",
        "colab_type": "code",
        "colab": {
          "base_uri": "https://localhost:8080/",
          "height": 51
        },
        "outputId": "3b46fcbe-eff2-4240-ae56-f0ccdec69f94"
      },
      "source": [
        "from sentence_transformers import SentenceTransformer\n",
        "model = 'bert-large-nli-mean-tokens'\n",
        "embedder = SentenceTransformer(model)\n",
        "print(\"=== Model \" + model + \" loaded ===\")"
      ],
      "execution_count": 13,
      "outputs": [
        {
          "output_type": "stream",
          "text": [
            "100%|██████████| 1.24G/1.24G [00:23<00:00, 51.9MB/s]\n"
          ],
          "name": "stderr"
        },
        {
          "output_type": "stream",
          "text": [
            "=== Model bert-large-nli-mean-tokens loaded ===\n"
          ],
          "name": "stdout"
        }
      ]
    },
    {
      "cell_type": "code",
      "metadata": {
        "id": "YyXlJEDGQAja",
        "colab_type": "code",
        "colab": {}
      },
      "source": [
        "train2path = root_path + \"data/train.csv\"\n",
        "test2path = root_path + \"data/test.csv\"\n",
        "dev2path = root_path + \"data/dev.csv\"\n",
        "OriginalTrainData = MakeSameKPArguments(train2path)\n",
        "OriginalTestData = MakeSameKPArguments(test2path)\n",
        "OriginalDevnData = MakeSameKPArguments(dev2path)\n",
        "\n",
        "MakeThreshold = []\n",
        "for d in OriginalTrainData:\n",
        "  KP = d[0]\n",
        "  KP_embeddings = embedder.encode([KP])[0]\n",
        "  Arguments = d[1]\n",
        "  ArgumentsEmbeddings = []\n",
        "  for a in Arguments:\n",
        "    AEmbed = embedder.encode([a])[0]\n",
        "    ArgumentsEmbeddings.append(AEmbed)\n",
        "  MakeThreshold.append([KP_embeddings, ArgumentsEmbeddings])\n",
        "for d in OriginalDevnData:\n",
        "  KP = d[0]\n",
        "  KP_embeddings = embedder.encode([KP])[0]\n",
        "  Arguments = d[1]\n",
        "  ArgumentsEmbeddings = []\n",
        "  for a in Arguments:\n",
        "    AEmbed = embedder.encode([a])[0]\n",
        "    ArgumentsEmbeddings.append(AEmbed)\n",
        "  MakeThreshold.append([KP_embeddings, ArgumentsEmbeddings])\n",
        "\n",
        "MakeTest = []\n",
        "for d in OriginalTestData:\n",
        "  KP = d[0]\n",
        "  KP_embeddings = embedder.encode([KP])[0]\n",
        "  Arguments = d[1]\n",
        "  ArgumentsEmbeddings = []\n",
        "  for a in Arguments:\n",
        "    AEmbed = embedder.encode([a])[0]\n",
        "    ArgumentsEmbeddings.append(AEmbed)\n",
        "  MakeTest.append([KP_embeddings, ArgumentsEmbeddings])"
      ],
      "execution_count": 14,
      "outputs": []
    },
    {
      "cell_type": "markdown",
      "metadata": {
        "id": "mZo0kwwOe4n3",
        "colab_type": "text"
      },
      "source": [
        "## EmbedRank with SBERT\n",
        "\n",
        "If you want to use MMR, please change embedrank to embedranpp.\n",
        "Then, it is better to change hyper-parameter to adapt your task."
      ]
    },
    {
      "cell_type": "code",
      "metadata": {
        "id": "AUhQYrtH2vgU",
        "colab_type": "code",
        "colab": {
          "base_uri": "https://localhost:8080/",
          "height": 159
        },
        "outputId": "24383b78-8d24-4f01-c584-ef85c8e6fe0f"
      },
      "source": [
        "import tensorflow as tf\n",
        "import tensorflow_hub as hub\n",
        "import numpy as np\n",
        "import matplotlib.pyplot as plt\n",
        "import seaborn as sns\n",
        "import spacy\n",
        "from IPython.display import HTML\n",
        "from sklearn import manifold\n",
        "from sklearn.metrics.pairwise import cosine_distances\n",
        "\n",
        "%matplotlib inline\n",
        "\n",
        "\n",
        "def ncossim(embs_1, embs_2, axis=0):\n",
        "    sims = np.inner(embs_1, embs_2)\n",
        "    std = np.std(sims, axis=axis)\n",
        "    ex = np.mean((sims-np.min(sims, axis=axis))/np.max(sims, axis=axis), axis=axis)\n",
        "    return 0.5 + (sims-ex)/std\n",
        "\n",
        "\n",
        "def mmr(doc_emb, cand_embs, key_embs):\n",
        "    param = 0.5\n",
        "    scores = param * ncossim(cand_embs, doc_emb, axis=0)\n",
        "    if key_embs is not None:\n",
        "        scores -= (1-param) * np.max(ncossim(cand_embs, key_embs), axis=1).reshape(scores.shape[0], -1)\n",
        "    return scores\n",
        "\n",
        "\n",
        "def embedrank(doc_emb, sent_embs, n_keys, threshold):\n",
        "    assert 0 < n_keys, 'Please `key_size` value set more than 0'\n",
        "    assert n_keys < len(sent_embs), 'Please `key_size` value set lower than `#sentences`'\n",
        "    sims = np.inner(doc_emb, sent_embs).reshape(-1)\n",
        "    return np.argsort(-sims)[:n_keys]\n",
        "\n",
        "\"\"\"\n",
        "def embedrankpp(doc_emb, sent_embs, n_keys):\n",
        "    assert 0 < n_keys, 'Please `key_size` value set more than 0'\n",
        "    assert n_keys < len(sent_embs), 'Please `key_size` value set lower than `#sentences`'\n",
        "    cand_idx = list(range(len(sent_embs)))\n",
        "    key_idx = []\n",
        "    while len(key_idx) < n_keys:\n",
        "        cand_embs = sent_embs[cand_idx]\n",
        "        key_embs = sent_embs[key_idx] if len(key_idx) > 0 else None\n",
        "        scores = mmr(doc_emb, cand_embs, key_embs)\n",
        "        key_idx.append(cand_idx[np.argmax(scores)])\n",
        "        cand_idx.pop(np.argmax(scores))\n",
        "    return key_idx\n",
        "\"\"\""
      ],
      "execution_count": 17,
      "outputs": [
        {
          "output_type": "stream",
          "text": [
            "/usr/local/lib/python3.6/dist-packages/statsmodels/tools/_testing.py:19: FutureWarning: pandas.util.testing is deprecated. Use the functions in the public API at pandas.testing instead.\n",
            "  import pandas.util.testing as tm\n"
          ],
          "name": "stderr"
        },
        {
          "output_type": "execute_result",
          "data": {
            "application/vnd.google.colaboratory.intrinsic+json": {
              "type": "string"
            },
            "text/plain": [
              "\"\\ndef embedrankpp(doc_emb, sent_embs, n_keys):\\n    assert 0 < n_keys, 'Please `key_size` value set more than 0'\\n    assert n_keys < len(sent_embs), 'Please `key_size` value set lower than `#sentences`'\\n    cand_idx = list(range(len(sent_embs)))\\n    key_idx = []\\n    while len(key_idx) < n_keys:\\n        cand_embs = sent_embs[cand_idx]\\n        key_embs = sent_embs[key_idx] if len(key_idx) > 0 else None\\n        scores = mmr(doc_emb, cand_embs, key_embs)\\n        key_idx.append(cand_idx[np.argmax(scores)])\\n        cand_idx.pop(np.argmax(scores))\\n    return key_idx\\n\""
            ]
          },
          "metadata": {
            "tags": []
          },
          "execution_count": 17
        }
      ]
    },
    {
      "cell_type": "code",
      "metadata": {
        "id": "ddhMwGZMjwZf",
        "colab_type": "code",
        "colab": {}
      },
      "source": [
        "#MakeTest: [KP_embeddings, ArgumentsEmbeddings]\n",
        "#MakeThreshold: [KP_embeddings, ArgumentsEmbeddings]\n",
        "RESULTS = []\n",
        "key_size = 1\n",
        "threshold = 0\n",
        "for i in range(len(MakeTest)):\n",
        "  TestList = MakeTest[i]\n",
        "  KPEmbed = TestList[0]\n",
        "  ArgEmbed = TestList[1]\n",
        "  keys = embedrank(KPEmbed, ArgEmbed, key_size, threshold)\n",
        "  KPOriginal = OriginalTestData[i][0]\n",
        "  ArgumentsOriginal = OriginalTestData[i][1]\n",
        "  RESULTS.append([KPOriginal, ArgumentsOriginal[keys[0]]])"
      ],
      "execution_count": 53,
      "outputs": []
    },
    {
      "cell_type": "markdown",
      "metadata": {
        "id": "lPiBmr6oozmN",
        "colab_type": "text"
      },
      "source": [
        "# Score Metrics"
      ]
    },
    {
      "cell_type": "markdown",
      "metadata": {
        "id": "luuPIlUwqXB0",
        "colab_type": "text"
      },
      "source": [
        "### ROUGE SCORE"
      ]
    },
    {
      "cell_type": "code",
      "metadata": {
        "id": "JULQ8-mxo4Qr",
        "colab_type": "code",
        "colab": {
          "base_uri": "https://localhost:8080/",
          "height": 51
        },
        "outputId": "00392588-9a5a-465c-dfba-c1a4dc9d2a30"
      },
      "source": [
        "!pip install rouge"
      ],
      "execution_count": 54,
      "outputs": [
        {
          "output_type": "stream",
          "text": [
            "Requirement already satisfied: rouge in /usr/local/lib/python3.6/dist-packages (1.0.0)\n",
            "Requirement already satisfied: six in /usr/local/lib/python3.6/dist-packages (from rouge) (1.15.0)\n"
          ],
          "name": "stdout"
        }
      ]
    },
    {
      "cell_type": "code",
      "metadata": {
        "id": "HEsXgLVuoMba",
        "colab_type": "code",
        "colab": {}
      },
      "source": [
        "from rouge import Rouge \n",
        "rouge = Rouge()"
      ],
      "execution_count": 55,
      "outputs": []
    },
    {
      "cell_type": "code",
      "metadata": {
        "id": "IxRoR3s7qWdZ",
        "colab_type": "code",
        "colab": {}
      },
      "source": [
        "#scores = rouge.get_scores(RESULTS[0][0], RESULTS[0][1])"
      ],
      "execution_count": 56,
      "outputs": []
    },
    {
      "cell_type": "code",
      "metadata": {
        "id": "AxFdvdbrHAe7",
        "colab_type": "code",
        "colab": {
          "base_uri": "https://localhost:8080/",
          "height": 102
        },
        "outputId": "8aa4cac4-5afa-4c87-ae0a-4b0b2983f0d2"
      },
      "source": [
        "#scores"
      ],
      "execution_count": 32,
      "outputs": [
        {
          "output_type": "execute_result",
          "data": {
            "text/plain": [
              "[{'rouge-1': {'f': 0.5217391254442345, 'p': 0.5454545454545454, 'r': 0.5},\n",
              "  'rouge-2': {'f': 0.1904761854875285, 'p': 0.2, 'r': 0.18181818181818182},\n",
              "  'rouge-l': {'f': 0.45454544954545456,\n",
              "   'p': 0.45454545454545453,\n",
              "   'r': 0.45454545454545453}}]"
            ]
          },
          "metadata": {
            "tags": []
          },
          "execution_count": 32
        }
      ]
    },
    {
      "cell_type": "code",
      "metadata": {
        "id": "-U-2rJwqqwK3",
        "colab_type": "code",
        "colab": {}
      },
      "source": [
        "RougeScores = []\n",
        "for each_result in RESULTS:\n",
        "  KP = each_result[0]\n",
        "  Arg = each_result[1]\n",
        "  scores = rouge.get_scores(KP, Arg)\n",
        "  RougeScores.append([scores[0], KP, Arg])"
      ],
      "execution_count": 57,
      "outputs": []
    },
    {
      "cell_type": "code",
      "metadata": {
        "id": "JV7OU77GMO0u",
        "colab_type": "code",
        "colab": {}
      },
      "source": [
        "R1_F1 = 0\n",
        "R2_F1 = 0\n",
        "RL_F1 = 0\n",
        "R1_P = 0\n",
        "R2_P = 0\n",
        "RL_P = 0\n",
        "R1_R = 0\n",
        "R2_R = 0\n",
        "RL_R = 0\n",
        "\n",
        "MinR1 = 1.0\n",
        "MinRL = 1.0\n",
        "MaxR1 = 0.0\n",
        "MaxRL = 0.0\n",
        "\n",
        "for r in RougeScores:\n",
        "  RougeDirectory = r[0]\n",
        "  KP = r[1]\n",
        "  Arg = r[2]\n",
        "\n",
        "  R1 = RougeDirectory['rouge-1']\n",
        "  R2 = RougeDirectory['rouge-2']\n",
        "  RL = RougeDirectory['rouge-l']\n",
        "\n",
        "  R1_F1 = R1_F1 + R1['f']\n",
        "  R2_F1 = R2_F1 + R2['f']\n",
        "  RL_F1 = RL_F1 + RL['f']\n",
        "\n",
        "  R1_P = R1_P + R1['p']\n",
        "  R2_P = R2_P + R2['p']\n",
        "  RL_P = RL_P + RL['p']\n",
        "  \n",
        "  R1_R = R1_R + R1['r']\n",
        "  R2_R = R2_R + R2['r']\n",
        "  RL_R = RL_R + RL['r']\n",
        "\n",
        "  if MinR1 > R1_F1:\n",
        "    MinR1 = R1_F1\n",
        "    KPMinR1 = KP\n",
        "    ArgMinR1 = Arg\n",
        "  if MinRL > RL_F1:\n",
        "    MinRL = RL_F1\n",
        "    KPMinRL = KP\n",
        "    ArgMinRL = Arg\n",
        "  if MaxR1 < R1_F1:\n",
        "    MaxR1 = R1_F1\n",
        "    KPMaxR1 = KP\n",
        "    ArgMaxR1 = Arg\n",
        "  if MaxRL < RL_F1:\n",
        "    MaxRL = RL_F1\n",
        "    KPMaxRL = KP\n",
        "    ArgMaxRL = Arg\n",
        "\n",
        "LengthOfScores = len(RougeScores)"
      ],
      "execution_count": 58,
      "outputs": []
    },
    {
      "cell_type": "code",
      "metadata": {
        "id": "SBPe_wNXQpcv",
        "colab_type": "code",
        "colab": {
          "base_uri": "https://localhost:8080/",
          "height": 221
        },
        "outputId": "f0a6278e-f20d-4c57-acef-2031dde8c5fb"
      },
      "source": [
        "print(\"===Rouge-1===\")\n",
        "print(\"F1       : \" + str(R1_F1/LengthOfScores))\n",
        "print(\"Precision: \" + str(R1_P/LengthOfScores))\n",
        "print(\"Recall   : \" + str(R1_R/LengthOfScores))\n",
        "print(\"===Rouge-2===\")\n",
        "print(\"F1       : \" + str(R2_F1/LengthOfScores))\n",
        "print(\"Precision: \" + str(R2_P/LengthOfScores))\n",
        "print(\"Recall   : \" + str(R2_R/LengthOfScores))\n",
        "print(\"===Rouge-L===\")\n",
        "print(\"F1       : \" + str(RL_F1/LengthOfScores))\n",
        "print(\"Precision: \" + str(RL_P/LengthOfScores))\n",
        "print(\"Recall   : \" + str(RL_R/LengthOfScores))"
      ],
      "execution_count": 59,
      "outputs": [
        {
          "output_type": "stream",
          "text": [
            "===Rouge-1===\n",
            "F1       : 0.17943774452068129\n",
            "Precision: 0.27442161663473136\n",
            "Recall   : 0.1448008254583646\n",
            "===Rouge-2===\n",
            "F1       : 0.049684630011168185\n",
            "Precision: 0.07899504866717981\n",
            "Recall   : 0.03960188141302141\n",
            "===Rouge-L===\n",
            "F1       : 0.18038845327110314\n",
            "Precision: 0.26704042769616537\n",
            "Recall   : 0.14676986008799853\n"
          ],
          "name": "stdout"
        }
      ]
    },
    {
      "cell_type": "code",
      "metadata": {
        "id": "HUGhWM40WFZa",
        "colab_type": "code",
        "colab": {
          "base_uri": "https://localhost:8080/",
          "height": 360
        },
        "outputId": "a4d11c45-099c-440e-b612-41029601ae78"
      },
      "source": [
        "print(\"Argument which yeilds Minimum F on Rouge-1\")\n",
        "print(\"Minimum F on R1: \" + str(MinR1))\n",
        "print(\"KP: \" + KPMinR1)\n",
        "print(\"Arg: \" + ArgMinR1)\n",
        "print(\"\")\n",
        "\n",
        "print(\"Argument which yeilds Minimum F on Rouge-L\")\n",
        "print(\"Minimum F on RL: \" + str(MinRL))\n",
        "print(\"KP: \" + KPMinRL)\n",
        "print(\"Arg: \" + ArgMinRL)\n",
        "print(\"\")\n",
        "\n",
        "print(\"Argument which yeilds Max F on Rouge-1\")\n",
        "print(\"Max F on R1: \" + str(MaxRL))\n",
        "print(\"KP: \" + KPMaxRL)\n",
        "print(\"Arg: \" + ArgMaxRL)\n",
        "print(\"\")\n",
        "\n",
        "print(\"Argument which yeilds Max F on Rouge-L\")\n",
        "print(\"Max F on RL: \" + str(MaxRL))\n",
        "print(\"KP: \" + KPMaxRL)\n",
        "print(\"Arg: \" + ArgMaxRL)"
      ],
      "execution_count": 60,
      "outputs": [
        {
          "output_type": "stream",
          "text": [
            "Argument which yeilds Minimum F on Rouge-1\n",
            "Minimum F on R1: 0.5217391254442345\n",
            "KP: Parents should be permitted to choose the education of their children\n",
            "Arg: parents should have the right to choose how to educate their children\n",
            "\n",
            "Argument which yeilds Minimum F on Rouge-L\n",
            "Minimum F on RL: 0.45454544954545456\n",
            "KP: Parents should be permitted to choose the education of their children\n",
            "Arg: parents should have the right to choose how to educate their children\n",
            "\n",
            "Argument which yeilds Max F on Rouge-1\n",
            "Max F on R1: 11.003695649537292\n",
            "KP: Restrictions on migration would benefit people in the rural areas economically/socially\n",
            "Arg: urbanization leaves rural communities impoverished. it should be stemmed so that rural areas continue to thrive and develop.\n",
            "\n",
            "Argument which yeilds Max F on Rouge-L\n",
            "Max F on RL: 11.003695649537292\n",
            "KP: Restrictions on migration would benefit people in the rural areas economically/socially\n",
            "Arg: urbanization leaves rural communities impoverished. it should be stemmed so that rural areas continue to thrive and develop.\n"
          ],
          "name": "stdout"
        }
      ]
    },
    {
      "cell_type": "markdown",
      "metadata": {
        "id": "pBEnCYv1RprO",
        "colab_type": "text"
      },
      "source": [
        "===Rouge-1===\n",
        "* F1       : 0.1794\n",
        "* Precision: 0.2744\n",
        "* Recall   : 0.1448\n",
        "\n",
        "===Rouge-2===\n",
        "* F1       : 0.0497\n",
        "* Precision: 0.0790\n",
        "* Recall   : 0.0396\n",
        "\n",
        "===Rouge-L===\n",
        "* F1       : 0.1804\n",
        "* Precision: 0.2670\n",
        "* Recall   : 0.1468\n",
        "\n",
        "\"\"\"\n",
        "===Rouge-1===\n",
        "F1       : 0.17943774452068129\n",
        "Precision: 0.27442161663473136\n",
        "Recall   : 0.1448008254583646\n",
        "===Rouge-2===\n",
        "F1       : 0.049684630011168185\n",
        "Precision: 0.07899504866717981\n",
        "Recall   : 0.03960188141302141\n",
        "===Rouge-L===\n",
        "F1       : 0.18038845327110314\n",
        "Precision: 0.26704042769616537\n",
        "Recall   : 0.14676986008799853\n",
        "\"\"\""
      ]
    },
    {
      "cell_type": "markdown",
      "metadata": {
        "id": "lkB_BzCcMPKQ",
        "colab_type": "text"
      },
      "source": [
        "### BLUE SCORE"
      ]
    },
    {
      "cell_type": "code",
      "metadata": {
        "id": "uRg1UEHzZ09S",
        "colab_type": "code",
        "colab": {
          "base_uri": "https://localhost:8080/",
          "height": 615
        },
        "outputId": "0da5f676-38b8-41e7-ee4c-2521dc6b372b"
      },
      "source": [
        "!pip install bleu"
      ],
      "execution_count": 61,
      "outputs": [
        {
          "output_type": "stream",
          "text": [
            "Collecting bleu\n",
            "  Downloading https://files.pythonhosted.org/packages/ae/df/4fd9bfe6dc240a1760f8e95ca41aa31382e328e31de45145f528dab5c7f8/bleu-0.3.tar.gz\n",
            "Collecting efficiency\n",
            "  Downloading https://files.pythonhosted.org/packages/aa/9b/805e6da20cafbce2e2d08d92dce075d5cbb6316ecd473f4fe4f6373fb580/efficiency-0.4.tar.gz\n",
            "Requirement already satisfied: spacy in /usr/local/lib/python3.6/dist-packages (from efficiency->bleu) (2.2.4)\n",
            "Requirement already satisfied: preshed<3.1.0,>=3.0.2 in /usr/local/lib/python3.6/dist-packages (from spacy->efficiency->bleu) (3.0.2)\n",
            "Requirement already satisfied: catalogue<1.1.0,>=0.0.7 in /usr/local/lib/python3.6/dist-packages (from spacy->efficiency->bleu) (1.0.0)\n",
            "Requirement already satisfied: wasabi<1.1.0,>=0.4.0 in /usr/local/lib/python3.6/dist-packages (from spacy->efficiency->bleu) (0.7.1)\n",
            "Requirement already satisfied: tqdm<5.0.0,>=4.38.0 in /usr/local/lib/python3.6/dist-packages (from spacy->efficiency->bleu) (4.41.1)\n",
            "Requirement already satisfied: setuptools in /usr/local/lib/python3.6/dist-packages (from spacy->efficiency->bleu) (49.2.0)\n",
            "Requirement already satisfied: requests<3.0.0,>=2.13.0 in /usr/local/lib/python3.6/dist-packages (from spacy->efficiency->bleu) (2.23.0)\n",
            "Requirement already satisfied: murmurhash<1.1.0,>=0.28.0 in /usr/local/lib/python3.6/dist-packages (from spacy->efficiency->bleu) (1.0.2)\n",
            "Requirement already satisfied: numpy>=1.15.0 in /usr/local/lib/python3.6/dist-packages (from spacy->efficiency->bleu) (1.18.5)\n",
            "Requirement already satisfied: srsly<1.1.0,>=1.0.2 in /usr/local/lib/python3.6/dist-packages (from spacy->efficiency->bleu) (1.0.2)\n",
            "Requirement already satisfied: cymem<2.1.0,>=2.0.2 in /usr/local/lib/python3.6/dist-packages (from spacy->efficiency->bleu) (2.0.3)\n",
            "Requirement already satisfied: thinc==7.4.0 in /usr/local/lib/python3.6/dist-packages (from spacy->efficiency->bleu) (7.4.0)\n",
            "Requirement already satisfied: plac<1.2.0,>=0.9.6 in /usr/local/lib/python3.6/dist-packages (from spacy->efficiency->bleu) (1.1.3)\n",
            "Requirement already satisfied: blis<0.5.0,>=0.4.0 in /usr/local/lib/python3.6/dist-packages (from spacy->efficiency->bleu) (0.4.1)\n",
            "Requirement already satisfied: importlib-metadata>=0.20; python_version < \"3.8\" in /usr/local/lib/python3.6/dist-packages (from catalogue<1.1.0,>=0.0.7->spacy->efficiency->bleu) (1.7.0)\n",
            "Requirement already satisfied: urllib3!=1.25.0,!=1.25.1,<1.26,>=1.21.1 in /usr/local/lib/python3.6/dist-packages (from requests<3.0.0,>=2.13.0->spacy->efficiency->bleu) (1.24.3)\n",
            "Requirement already satisfied: idna<3,>=2.5 in /usr/local/lib/python3.6/dist-packages (from requests<3.0.0,>=2.13.0->spacy->efficiency->bleu) (2.10)\n",
            "Requirement already satisfied: certifi>=2017.4.17 in /usr/local/lib/python3.6/dist-packages (from requests<3.0.0,>=2.13.0->spacy->efficiency->bleu) (2020.6.20)\n",
            "Requirement already satisfied: chardet<4,>=3.0.2 in /usr/local/lib/python3.6/dist-packages (from requests<3.0.0,>=2.13.0->spacy->efficiency->bleu) (3.0.4)\n",
            "Requirement already satisfied: zipp>=0.5 in /usr/local/lib/python3.6/dist-packages (from importlib-metadata>=0.20; python_version < \"3.8\"->catalogue<1.1.0,>=0.0.7->spacy->efficiency->bleu) (3.1.0)\n",
            "Building wheels for collected packages: bleu, efficiency\n",
            "  Building wheel for bleu (setup.py) ... \u001b[?25l\u001b[?25hdone\n",
            "  Created wheel for bleu: filename=bleu-0.3-cp36-none-any.whl size=5801 sha256=c91d2e36c035adfe807c7749acfa6bf7b0eadd9c7b9836e62e17bf28607ac643\n",
            "  Stored in directory: /root/.cache/pip/wheels/a9/95/e7/cb43a1c509c38fedbee6223963e34a51a94d8991f3b3e1888e\n",
            "  Building wheel for efficiency (setup.py) ... \u001b[?25l\u001b[?25hdone\n",
            "  Created wheel for efficiency: filename=efficiency-0.4-cp36-none-any.whl size=19617 sha256=0951821cf30f628665b214dd1edfffa04631fde40ca0b92add8f4c46b5201dd5\n",
            "  Stored in directory: /root/.cache/pip/wheels/1c/67/60/11693f94754d75dabfadb120c7ba380e7ef2aed8d3dccd00bf\n",
            "Successfully built bleu efficiency\n",
            "Installing collected packages: efficiency, bleu\n",
            "Successfully installed bleu-0.3 efficiency-0.4\n"
          ],
          "name": "stdout"
        }
      ]
    },
    {
      "cell_type": "code",
      "metadata": {
        "id": "ns1k9VV_MhxT",
        "colab_type": "code",
        "colab": {}
      },
      "source": [
        "from bleu import list_bleu\n",
        "\n",
        "KPs = [r[1] for r in RougeScores]\n",
        "Args = [r[2] for r in RougeScores]\n",
        "\n",
        "BlueScore = list_bleu([Args], KPs)"
      ],
      "execution_count": 62,
      "outputs": []
    },
    {
      "cell_type": "code",
      "metadata": {
        "id": "U-bz9SlObFAW",
        "colab_type": "code",
        "colab": {
          "base_uri": "https://localhost:8080/",
          "height": 34
        },
        "outputId": "7e3dcde4-22bc-4a91-9aba-07a753363e6d"
      },
      "source": [
        "BlueScore #"
      ],
      "execution_count": 63,
      "outputs": [
        {
          "output_type": "execute_result",
          "data": {
            "text/plain": [
              "0.98"
            ]
          },
          "metadata": {
            "tags": []
          },
          "execution_count": 63
        }
      ]
    },
    {
      "cell_type": "markdown",
      "metadata": {
        "id": "tnbLgMErbWcR",
        "colab_type": "text"
      },
      "source": [
        "Blue Score Result:\n",
        "0.98 (below 1.0%!!!)"
      ]
    },
    {
      "cell_type": "markdown",
      "metadata": {
        "id": "-iV4BG3sbfqw",
        "colab_type": "text"
      },
      "source": [
        "###BERTScore"
      ]
    },
    {
      "cell_type": "code",
      "metadata": {
        "id": "L0HE8DOtbfBD",
        "colab_type": "code",
        "colab": {
          "base_uri": "https://localhost:8080/",
          "height": 581
        },
        "outputId": "18464cba-d6ee-4ede-8523-1e4b50e1e569"
      },
      "source": [
        "!pip install bert-score"
      ],
      "execution_count": 64,
      "outputs": [
        {
          "output_type": "stream",
          "text": [
            "Collecting bert-score\n",
            "\u001b[?25l  Downloading https://files.pythonhosted.org/packages/50/8c/70244d0f351176c9984643e2037edc18b9124491b47ad19191039a18d2bd/bert_score-0.3.5-py3-none-any.whl (52kB)\n",
            "\r\u001b[K     |██████▎                         | 10kB 22.5MB/s eta 0:00:01\r\u001b[K     |████████████▌                   | 20kB 4.4MB/s eta 0:00:01\r\u001b[K     |██████████████████▊             | 30kB 5.5MB/s eta 0:00:01\r\u001b[K     |█████████████████████████       | 40kB 6.0MB/s eta 0:00:01\r\u001b[K     |███████████████████████████████▏| 51kB 5.1MB/s eta 0:00:01\r\u001b[K     |████████████████████████████████| 61kB 3.7MB/s \n",
            "\u001b[?25hRequirement already satisfied: tqdm>=4.31.1 in /usr/local/lib/python3.6/dist-packages (from bert-score) (4.41.1)\n",
            "Requirement already satisfied: torch>=1.0.0 in /usr/local/lib/python3.6/dist-packages (from bert-score) (1.6.0+cu101)\n",
            "Requirement already satisfied: numpy in /usr/local/lib/python3.6/dist-packages (from bert-score) (1.18.5)\n",
            "Requirement already satisfied: transformers>=3.0.0 in /usr/local/lib/python3.6/dist-packages (from bert-score) (3.0.2)\n",
            "Requirement already satisfied: matplotlib in /usr/local/lib/python3.6/dist-packages (from bert-score) (3.2.2)\n",
            "Requirement already satisfied: pandas>=1.0.1 in /usr/local/lib/python3.6/dist-packages (from bert-score) (1.0.5)\n",
            "Requirement already satisfied: requests in /usr/local/lib/python3.6/dist-packages (from bert-score) (2.23.0)\n",
            "Requirement already satisfied: future in /usr/local/lib/python3.6/dist-packages (from torch>=1.0.0->bert-score) (0.16.0)\n",
            "Requirement already satisfied: packaging in /usr/local/lib/python3.6/dist-packages (from transformers>=3.0.0->bert-score) (20.4)\n",
            "Requirement already satisfied: filelock in /usr/local/lib/python3.6/dist-packages (from transformers>=3.0.0->bert-score) (3.0.12)\n",
            "Requirement already satisfied: dataclasses; python_version < \"3.7\" in /usr/local/lib/python3.6/dist-packages (from transformers>=3.0.0->bert-score) (0.7)\n",
            "Requirement already satisfied: regex!=2019.12.17 in /usr/local/lib/python3.6/dist-packages (from transformers>=3.0.0->bert-score) (2019.12.20)\n",
            "Requirement already satisfied: sentencepiece!=0.1.92 in /usr/local/lib/python3.6/dist-packages (from transformers>=3.0.0->bert-score) (0.1.91)\n",
            "Requirement already satisfied: tokenizers==0.8.1.rc1 in /usr/local/lib/python3.6/dist-packages (from transformers>=3.0.0->bert-score) (0.8.1rc1)\n",
            "Requirement already satisfied: sacremoses in /usr/local/lib/python3.6/dist-packages (from transformers>=3.0.0->bert-score) (0.0.43)\n",
            "Requirement already satisfied: cycler>=0.10 in /usr/local/lib/python3.6/dist-packages (from matplotlib->bert-score) (0.10.0)\n",
            "Requirement already satisfied: pyparsing!=2.0.4,!=2.1.2,!=2.1.6,>=2.0.1 in /usr/local/lib/python3.6/dist-packages (from matplotlib->bert-score) (2.4.7)\n",
            "Requirement already satisfied: kiwisolver>=1.0.1 in /usr/local/lib/python3.6/dist-packages (from matplotlib->bert-score) (1.2.0)\n",
            "Requirement already satisfied: python-dateutil>=2.1 in /usr/local/lib/python3.6/dist-packages (from matplotlib->bert-score) (2.8.1)\n",
            "Requirement already satisfied: pytz>=2017.2 in /usr/local/lib/python3.6/dist-packages (from pandas>=1.0.1->bert-score) (2018.9)\n",
            "Requirement already satisfied: urllib3!=1.25.0,!=1.25.1,<1.26,>=1.21.1 in /usr/local/lib/python3.6/dist-packages (from requests->bert-score) (1.24.3)\n",
            "Requirement already satisfied: certifi>=2017.4.17 in /usr/local/lib/python3.6/dist-packages (from requests->bert-score) (2020.6.20)\n",
            "Requirement already satisfied: chardet<4,>=3.0.2 in /usr/local/lib/python3.6/dist-packages (from requests->bert-score) (3.0.4)\n",
            "Requirement already satisfied: idna<3,>=2.5 in /usr/local/lib/python3.6/dist-packages (from requests->bert-score) (2.10)\n",
            "Requirement already satisfied: six in /usr/local/lib/python3.6/dist-packages (from packaging->transformers>=3.0.0->bert-score) (1.15.0)\n",
            "Requirement already satisfied: click in /usr/local/lib/python3.6/dist-packages (from sacremoses->transformers>=3.0.0->bert-score) (7.1.2)\n",
            "Requirement already satisfied: joblib in /usr/local/lib/python3.6/dist-packages (from sacremoses->transformers>=3.0.0->bert-score) (0.16.0)\n",
            "Installing collected packages: bert-score\n",
            "Successfully installed bert-score-0.3.5\n"
          ],
          "name": "stdout"
        }
      ]
    },
    {
      "cell_type": "code",
      "metadata": {
        "id": "N-NGhSvfcqxS",
        "colab_type": "code",
        "colab": {}
      },
      "source": [
        "from bert_score import score\n",
        "def calc_bert_score(cands, refs):\n",
        "    Precision, Recall, F1 = score(cands, refs, lang=\"en\", verbose=True)\n",
        "    return Precision.numpy().tolist(), Recall.numpy().tolist(), F1.numpy().tolist()"
      ],
      "execution_count": 70,
      "outputs": []
    },
    {
      "cell_type": "code",
      "metadata": {
        "id": "kJSC3J-nb5ZR",
        "colab_type": "code",
        "colab": {
          "base_uri": "https://localhost:8080/",
          "height": 183,
          "referenced_widgets": [
            "f75968a55f7a498c828290cbb485c6a0",
            "f8e1465108e0465a8d79e4aeb06a84f3",
            "3f78f1cfcdd9437c9b0f51559c67350d",
            "10223c7d3eef493bad636f51eb3b2a37",
            "5a96d4e5632b48868f4b637936f1b13d",
            "043f09a7aa1e4f1f868801897b0f633d",
            "a7b5efdae8554a3283cefbda9ddf957d",
            "4e0aef49b8474c9887626d6b5e326310",
            "073bf7c2aa164795b914a17d892ff484",
            "67f08fb5abca4ecba5da77da8517cd07",
            "4f7828f45f124589a7be7dcf353dde2a",
            "d40ed3f93f834dd398acd384dcf7aca7",
            "8a34b3f9fd564a13bd8ec0f32b5c54e3",
            "00e5376f1c204238bd6a26f0977d4ad9",
            "cdea81d30658478e870db32ba1fc20f3",
            "ee067ac642a1408394b6f6089e2d3e5a"
          ]
        },
        "outputId": "04bd097c-ac6e-4d17-fdfa-94142d381b89"
      },
      "source": [
        "KPs = [r[1] for r in RougeScores]\n",
        "Args = [r[2] for r in RougeScores]\n",
        "P, R, F1 = calc_bert_score(Args, KPs)"
      ],
      "execution_count": 75,
      "outputs": [
        {
          "output_type": "stream",
          "text": [
            "calculating scores...\n",
            "computing bert embedding.\n"
          ],
          "name": "stdout"
        },
        {
          "output_type": "display_data",
          "data": {
            "application/vnd.jupyter.widget-view+json": {
              "model_id": "f75968a55f7a498c828290cbb485c6a0",
              "version_minor": 0,
              "version_major": 2
            },
            "text/plain": [
              "HBox(children=(FloatProgress(value=0.0, max=2.0), HTML(value='')))"
            ]
          },
          "metadata": {
            "tags": []
          }
        },
        {
          "output_type": "stream",
          "text": [
            "\n",
            "computing greedy matching.\n"
          ],
          "name": "stdout"
        },
        {
          "output_type": "display_data",
          "data": {
            "application/vnd.jupyter.widget-view+json": {
              "model_id": "073bf7c2aa164795b914a17d892ff484",
              "version_minor": 0,
              "version_major": 2
            },
            "text/plain": [
              "HBox(children=(FloatProgress(value=0.0, max=1.0), HTML(value='')))"
            ]
          },
          "metadata": {
            "tags": []
          }
        },
        {
          "output_type": "stream",
          "text": [
            "\n",
            "done in 1.44 seconds, 42.36 sentences/sec\n"
          ],
          "name": "stdout"
        }
      ]
    },
    {
      "cell_type": "code",
      "metadata": {
        "id": "bsyLZV5FdnW9",
        "colab_type": "code",
        "colab": {
          "base_uri": "https://localhost:8080/",
          "height": 68
        },
        "outputId": "d5419029-001a-433f-8d68-36331e7cd237"
      },
      "source": [
        "print(sum(P)/len(P))\n",
        "print(sum(R)/len(R))\n",
        "print(sum(F1)/len(F1))"
      ],
      "execution_count": 76,
      "outputs": [
        {
          "output_type": "stream",
          "text": [
            "0.8866757232634748\n",
            "0.8992083258316165\n",
            "0.8926650442060877\n"
          ],
          "name": "stdout"
        }
      ]
    },
    {
      "cell_type": "code",
      "metadata": {
        "id": "_fBctnJ6frMd",
        "colab_type": "code",
        "colab": {}
      },
      "source": [
        "minPrecision = 1.0\n",
        "maxPrecision = 0.0\n",
        "minRecall = 1.0\n",
        "maxRecall = 0.0\n",
        "minF1 = 1.0\n",
        "maxF1 = 0.0\n",
        "for idx in range(len(P)):\n",
        "  if minPrecision > P[idx]:\n",
        "    minPrecision = P[idx]\n",
        "    minPrecisionKP = KPs[idx]\n",
        "    minPrecisionArg = Args[idx]\n",
        "  if maxPrecision < P[idx]:\n",
        "    maxPrecision = P[idx]\n",
        "    maxPrecisionKP = KPs[idx]\n",
        "    maxPrecisionArg = Args[idx]\n",
        "  if minRecall > R[idx]:\n",
        "    minRecall = R[idx]\n",
        "    minRecallKP = KPs[idx]\n",
        "    minRecallArg = Args[idx]\n",
        "  if maxRecall < R[idx]:\n",
        "    maxRecall = R[idx]\n",
        "    maxRecallKP = KPs[idx]\n",
        "    maxRecallArg = Args[idx]\n",
        "  if minF1 > F1[idx]:\n",
        "    minF1 = F1[idx]\n",
        "    minF1KP = KPs[idx]\n",
        "    minF1Arg = Args[idx]\n",
        "  if maxF1 < F1[idx]:\n",
        "    maxF1 = F1[idx]\n",
        "    maxF1KP = KPs[idx]\n",
        "    maxF1Arg = Args[idx]"
      ],
      "execution_count": 77,
      "outputs": []
    },
    {
      "cell_type": "code",
      "metadata": {
        "id": "7H67rFw1fspC",
        "colab_type": "code",
        "colab": {
          "base_uri": "https://localhost:8080/",
          "height": 445
        },
        "outputId": "7723e6d3-3391-4dd3-b2cb-de5043619fab"
      },
      "source": [
        "print(\"=== minPrecision ===\")\n",
        "print(minPrecision)\n",
        "print(minPrecisionKP)\n",
        "print(minPrecisionArg)\n",
        "\n",
        "print(\"=== maxPrecision ===\")\n",
        "print(maxPrecision)\n",
        "print(maxPrecisionKP)\n",
        "print(maxPrecisionArg)\n",
        "\n",
        "print(\"=== minRecall ===\")\n",
        "print(minRecall)\n",
        "print(minRecallKP)\n",
        "print(minRecallArg)\n",
        "\n",
        "print(\"=== maxRecall ===\")\n",
        "print(maxRecall)\n",
        "print(maxRecallKP)\n",
        "print(maxRecallArg)\n",
        "\n",
        "print(\"=== minF1===\")\n",
        "print(minF1)\n",
        "print(minF1KP)\n",
        "print(minF1Arg)\n",
        "\n",
        "print(\"=== maxF1===\")\n",
        "print(maxF1)\n",
        "print(maxF1KP)\n",
        "print(maxF1Arg)"
      ],
      "execution_count": 81,
      "outputs": [
        {
          "output_type": "stream",
          "text": [
            "=== minPrecision ===\n",
            "0.8237141370773315\n",
            "Marriage benefits children\n",
            "marriage between two people creates a committed union forming the basis of a strong and secure union that is a safe setting to nurture children. it is a statement to the world of a bond between two peoples.\n",
            "=== maxPrecision ===\n",
            "0.9610263109207153\n",
            "Parents should be permitted to choose the education of their children\n",
            "parents should have the right to choose how to educate their children\n",
            "=== minRecall ===\n",
            "0.8283309936523438\n",
            "Affirmative action is ineffective\n",
            "it does not really work so is a waste of resources\n",
            "=== maxRecall ===\n",
            "0.9792323708534241\n",
            "Urbanization harms the environment\n",
            "urbanization is causing more pollution and hurting the environment\n",
            "=== minF1===\n",
            "0.8405146598815918\n",
            "Austerity extend recessions\n",
            "the costs of an austerity regime is too high and would destroy the economy. unemployment rates would surge as spending decreases leading to economic destruction.\n",
            "=== maxF1===\n",
            "0.9648058414459229\n",
            "Parents should be permitted to choose the education of their children\n",
            "parents should have the right to choose how to educate their children\n"
          ],
          "name": "stdout"
        }
      ]
    },
    {
      "cell_type": "markdown",
      "metadata": {
        "id": "LdCtXhA3dm8d",
        "colab_type": "text"
      },
      "source": [
        "\n",
        "BERT Score\n",
        "*   Precision: 0.8866757232634748\n",
        "*   Recall       : 0.8992083258316165\n",
        "*   F-1: 0.8926650442060877\n"
      ]
    },
    {
      "cell_type": "markdown",
      "metadata": {
        "id": "Rr9wRpGlMb3s",
        "colab_type": "text"
      },
      "source": [
        "### Show Text Embedding on 2D"
      ]
    },
    {
      "cell_type": "code",
      "metadata": {
        "id": "BcFERzbS9ozF",
        "colab_type": "code",
        "colab": {}
      },
      "source": [
        "display_sents = []\n",
        "print(KPOriginal)\n",
        "print(ArgumentsOriginal[keys[0]])\n",
        "print(\"===========\")\n",
        "for i, s in enumerate(ArgumentsOriginal):\n",
        "    line = '<font color=\"#CD5C5C\"><strong>' + s + '</strong></font>' if i in keys else s\n",
        "    display_sents.append(line)\n",
        "HTML('              '.join(display_sents))"
      ],
      "execution_count": null,
      "outputs": []
    },
    {
      "cell_type": "code",
      "metadata": {
        "id": "v3f3hiIq9or2",
        "colab_type": "code",
        "colab": {}
      },
      "source": [
        "# plot\n",
        "mds = manifold.MDS(n_components=2, dissimilarity=\"precomputed\")\n",
        "embs = np.concatenate((doc_emb, sent_embs), 0)\n",
        "dist_matrix = cosine_distances(embs, embs)\n",
        "pns = mds.fit_transform(dist_matrix)\n",
        "fixed_pns = pns - pns[0]\n",
        "\n",
        "keys_idx = [idx + 1 for idx in keys]\n",
        "other_idx = [idx for idx in range(1, len(ArgumentsOriginal)+1) if idx not in keys_idx]\n",
        "plt.scatter(fixed_pns[0,0], fixed_pns[0,1], color='green',  marker='*', s=150, label='document')\n",
        "plt.scatter(fixed_pns[keys_idx,0], fixed_pns[keys_idx, 1], color='blue', label='key sentences')\n",
        "plt.scatter(fixed_pns[other_idx,0], fixed_pns[other_idx, 1], color='white', edgecolors='black', label='other sentences')\n",
        "plt.xlim(-0.7, 0.7)\n",
        "plt.ylim(-0.7, 0.7)\n",
        "\n",
        "for i,(x,y) in enumerate(fixed_pns[1:], 1):\n",
        "    plt.annotate(str(i), (x+0.02,y+0.02))\n",
        "    \n",
        "plt.legend()\n",
        "plt.show()"
      ],
      "execution_count": null,
      "outputs": []
    },
    {
      "cell_type": "markdown",
      "metadata": {
        "id": "jrlzTYerNRBX",
        "colab_type": "text"
      },
      "source": [
        "# LexRank"
      ]
    },
    {
      "cell_type": "code",
      "metadata": {
        "id": "u4djFX2p9ogj",
        "colab_type": "code",
        "colab": {}
      },
      "source": [
        ""
      ],
      "execution_count": null,
      "outputs": []
    },
    {
      "cell_type": "code",
      "metadata": {
        "id": "BSF2_iy29oZh",
        "colab_type": "code",
        "colab": {}
      },
      "source": [
        ""
      ],
      "execution_count": null,
      "outputs": []
    },
    {
      "cell_type": "code",
      "metadata": {
        "id": "3C9M-VAY9oM5",
        "colab_type": "code",
        "colab": {}
      },
      "source": [
        ""
      ],
      "execution_count": null,
      "outputs": []
    },
    {
      "cell_type": "code",
      "metadata": {
        "id": "4MzfvmUq9n__",
        "colab_type": "code",
        "colab": {}
      },
      "source": [
        ""
      ],
      "execution_count": null,
      "outputs": []
    },
    {
      "cell_type": "code",
      "metadata": {
        "id": "td2FNEBJ9n2c",
        "colab_type": "code",
        "colab": {}
      },
      "source": [
        ""
      ],
      "execution_count": null,
      "outputs": []
    }
  ]
}